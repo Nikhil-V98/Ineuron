{
 "cells": [
  {
   "cell_type": "markdown",
   "id": "28d2df08",
   "metadata": {},
   "source": [
    "1) Write a Python program to print \"Hello Python\"?"
   ]
  },
  {
   "cell_type": "code",
   "execution_count": 1,
   "id": "49277551",
   "metadata": {
    "scrolled": true
   },
   "outputs": [
    {
     "name": "stdout",
     "output_type": "stream",
     "text": [
      "Hello Python\n"
     ]
    }
   ],
   "source": [
    "print(\"Hello Python\")"
   ]
  },
  {
   "cell_type": "markdown",
   "id": "72a6d56d",
   "metadata": {},
   "source": [
    "2) Write a Python program to do arithmetical operations addition and division.?"
   ]
  },
  {
   "cell_type": "code",
   "execution_count": 5,
   "id": "779100ce",
   "metadata": {},
   "outputs": [
    {
     "name": "stdout",
     "output_type": "stream",
     "text": [
      "15\n",
      "0.875\n"
     ]
    }
   ],
   "source": [
    "a = 7\n",
    "b = 8\n",
    "Sum = a+b\n",
    "Div = a/b\n",
    "print(Sum)\n",
    "print(Div)"
   ]
  },
  {
   "cell_type": "markdown",
   "id": "c04c6c9a",
   "metadata": {},
   "source": [
    "3) Write a Python program to find the area of a triangle?"
   ]
  },
  {
   "cell_type": "code",
   "execution_count": 16,
   "id": "503a913b",
   "metadata": {},
   "outputs": [
    {
     "name": "stdout",
     "output_type": "stream",
     "text": [
      "Enter value of height 5\n",
      "Enter value of base 4\n",
      "Area of triangle  10.0\n"
     ]
    }
   ],
   "source": [
    "##To find triangle area with base and hieght values \n",
    "a,b = float(input(\"Enter value of height \")), float(input(\"Enter value of base \"))\n",
    "temp = a*b\n",
    "area = temp/2\n",
    "print(\"Area of triangle \", area)"
   ]
  },
  {
   "cell_type": "code",
   "execution_count": 30,
   "id": "2b4687a4",
   "metadata": {},
   "outputs": [
    {
     "name": "stdout",
     "output_type": "stream",
     "text": [
      "Enter value of side1 5\n",
      "Enter value of side2 6\n",
      "Enter value of side3 7\n",
      "Area of triangle  14.696938456699069\n"
     ]
    }
   ],
   "source": [
    "##To find triangle area with 3 sides values \n",
    "a,b,c = float(input(\"Enter value of side1 \")), float(input(\"Enter value of side2 \")), float(input(\"Enter value of side3 \"))\n",
    "s = (a+b+c)/2\n",
    "temp = (s*(s-a)*(s-b)*(s-c))**0.5\n",
    "print(\"Area of triangle \", temp)"
   ]
  },
  {
   "cell_type": "markdown",
   "id": "03c6f111",
   "metadata": {},
   "source": [
    "4) Write a Python program to swap two variables?"
   ]
  },
  {
   "cell_type": "code",
   "execution_count": 33,
   "id": "9fc98e27",
   "metadata": {},
   "outputs": [
    {
     "name": "stdout",
     "output_type": "stream",
     "text": [
      "Write variable 1 ni\n",
      "Write variable 2 khi\n",
      "variable 1 after swaping  khi\n",
      "variable 2 after swaping  ni\n"
     ]
    }
   ],
   "source": [
    "a, b = input(\"Write variable 1 \"), input(\"Write variable 2 \")\n",
    "temp = a\n",
    "a = b\n",
    "b = temp\n",
    "print(\"variable 1 after swaping \",a)\n",
    "print(\"variable 2 after swaping \",b)"
   ]
  },
  {
   "cell_type": "markdown",
   "id": "ae4e9f18",
   "metadata": {},
   "source": [
    "5) Write a Python program to generate a random number?"
   ]
  },
  {
   "cell_type": "code",
   "execution_count": 13,
   "id": "9101faee",
   "metadata": {},
   "outputs": [
    {
     "name": "stdout",
     "output_type": "stream",
     "text": [
      "0.7687891846719028\n",
      "42\n"
     ]
    }
   ],
   "source": [
    "import random\n",
    "print(random.random())\n",
    "print(random.randint(0,100))"
   ]
  }
 ],
 "metadata": {
  "kernelspec": {
   "display_name": "Python 3",
   "language": "python",
   "name": "python3"
  },
  "language_info": {
   "codemirror_mode": {
    "name": "ipython",
    "version": 3
   },
   "file_extension": ".py",
   "mimetype": "text/x-python",
   "name": "python",
   "nbconvert_exporter": "python",
   "pygments_lexer": "ipython3",
   "version": "3.8.8"
  }
 },
 "nbformat": 4,
 "nbformat_minor": 5
}
