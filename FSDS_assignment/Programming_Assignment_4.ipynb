{
  "nbformat": 4,
  "nbformat_minor": 0,
  "metadata": {
    "colab": {
      "provenance": []
    },
    "kernelspec": {
      "name": "python3",
      "display_name": "Python 3"
    },
    "language_info": {
      "name": "python"
    }
  },
  "cells": [
    {
      "cell_type": "markdown",
      "source": [
        "1. Write a Python Program to Find the Factorial of a Number?"
      ],
      "metadata": {
        "id": "zbkT8_bKN2iS"
      }
    },
    {
      "cell_type": "code",
      "execution_count": 8,
      "metadata": {
        "colab": {
          "base_uri": "https://localhost:8080/"
        },
        "id": "N7hkKxU6NwpX",
        "outputId": "3ccbeb4b-f224-46a3-d09e-993846a22ee4"
      },
      "outputs": [
        {
          "output_type": "stream",
          "name": "stdout",
          "text": [
            "Provide Integer :10\n",
            "3628800\n"
          ]
        }
      ],
      "source": [
        "num = int(input(\"Provide Integer :\"))\n",
        "value = 1\n",
        "if num==0:\n",
        "  print(1)\n",
        "\n",
        "else:\n",
        "  for i in range(1,num+1):\n",
        "    value= i*value\n",
        "  print(value)"
      ]
    },
    {
      "cell_type": "markdown",
      "source": [
        "2. Write a Python Program to Display the multiplication Table?"
      ],
      "metadata": {
        "id": "W_8FXU2ON5dv"
      }
    },
    {
      "cell_type": "code",
      "source": [
        "num = int(input(\"Provide Integer :\"))\n",
        "for i in range(1,11):\n",
        "  print(num,\"*\",i,\"=\",num*i)"
      ],
      "metadata": {
        "colab": {
          "base_uri": "https://localhost:8080/"
        },
        "id": "mHCDQo0COEHw",
        "outputId": "2a63d075-1628-41c6-b815-3689b4fd899d"
      },
      "execution_count": 9,
      "outputs": [
        {
          "output_type": "stream",
          "name": "stdout",
          "text": [
            "Provide Integer :2\n",
            "2 * 1 = 2\n",
            "2 * 2 = 4\n",
            "2 * 3 = 6\n",
            "2 * 4 = 8\n",
            "2 * 5 = 10\n",
            "2 * 6 = 12\n",
            "2 * 7 = 14\n",
            "2 * 8 = 16\n",
            "2 * 9 = 18\n",
            "2 * 10 = 20\n"
          ]
        }
      ]
    },
    {
      "cell_type": "markdown",
      "source": [
        "3. Write a Python Program to Print the Fibonacci sequence?"
      ],
      "metadata": {
        "id": "WSWTBqreN5aZ"
      }
    },
    {
      "cell_type": "code",
      "source": [
        "n = int(input(\"length of Fibonacci sequence :\"))\n",
        "l = [0,1]\n",
        "\n",
        "while len(l) < n:\n",
        "  for i in range(len(l)):\n",
        "    if len(l)-i ==2:\n",
        "      num1 = l[i]\n",
        "    elif len(l)-i==1:\n",
        "      num2 = l[i]\n",
        "    else:\n",
        "      continue\n",
        "  l.append(num1+num2)\n",
        "l"
      ],
      "metadata": {
        "colab": {
          "base_uri": "https://localhost:8080/"
        },
        "id": "RWkicJNPODy7",
        "outputId": "17f94ecb-805e-43e1-82a5-e3def5d212a4"
      },
      "execution_count": 31,
      "outputs": [
        {
          "name": "stdout",
          "output_type": "stream",
          "text": [
            "length of Fibonacci sequence :20\n"
          ]
        },
        {
          "output_type": "execute_result",
          "data": {
            "text/plain": [
              "[0,\n",
              " 1,\n",
              " 1,\n",
              " 2,\n",
              " 3,\n",
              " 5,\n",
              " 8,\n",
              " 13,\n",
              " 21,\n",
              " 34,\n",
              " 55,\n",
              " 89,\n",
              " 144,\n",
              " 233,\n",
              " 377,\n",
              " 610,\n",
              " 987,\n",
              " 1597,\n",
              " 2584,\n",
              " 4181]"
            ]
          },
          "metadata": {},
          "execution_count": 31
        }
      ]
    },
    {
      "cell_type": "markdown",
      "source": [
        "4. Write a Python Program to Check Armstrong Number?"
      ],
      "metadata": {
        "id": "VqzWgA9pN5XK"
      }
    },
    {
      "cell_type": "code",
      "source": [
        "num = input(\"Number to be checked:\")\n",
        "sum=0\n",
        "for i in range(len(num)):\n",
        "  sum = (int(num[i])**3)+sum\n",
        "if sum == int(num):\n",
        "  print('\\nArmstorng Number')\n",
        "else:\n",
        "  print(\"\\nNot a Armstorng Number\")"
      ],
      "metadata": {
        "colab": {
          "base_uri": "https://localhost:8080/"
        },
        "id": "evD2qeEjODd0",
        "outputId": "4473a853-26aa-44e6-facd-67adf6036550"
      },
      "execution_count": 63,
      "outputs": [
        {
          "output_type": "stream",
          "name": "stdout",
          "text": [
            "Number to be checked:153\n",
            "\n",
            "Armstorng Number\n"
          ]
        }
      ]
    },
    {
      "cell_type": "markdown",
      "source": [
        "5. Write a Python Program to Find Armstrong Number in an Interval?"
      ],
      "metadata": {
        "id": "IW9t4FlZN5UW"
      }
    },
    {
      "cell_type": "code",
      "source": [
        "# Program to check Armstrong numbers in a certain interval\n",
        "\n",
        "lower = 100\n",
        "upper = 2000\n",
        "\n",
        "for num in range(lower, upper + 1):\n",
        "   order = len(str(num))\n",
        "   sum = 0\n",
        "   temp = num\n",
        "   while temp > 0:\n",
        "       digit = temp % 10\n",
        "       sum += digit ** order\n",
        "       temp //= 10\n",
        "   if num == sum:\n",
        "       print(num)"
      ],
      "metadata": {
        "colab": {
          "base_uri": "https://localhost:8080/"
        },
        "id": "DMa2EwYIODG6",
        "outputId": "2af1d2d8-d180-467b-b848-31066e953041"
      },
      "execution_count": 64,
      "outputs": [
        {
          "output_type": "stream",
          "name": "stdout",
          "text": [
            "153\n",
            "370\n",
            "371\n",
            "407\n",
            "1634\n"
          ]
        }
      ]
    },
    {
      "cell_type": "markdown",
      "source": [
        "6. Write a Python Program to Find the Sum of Natural Numbers?"
      ],
      "metadata": {
        "id": "Gl3rcf2DN5Q9"
      }
    },
    {
      "cell_type": "code",
      "source": [
        "num = int(input(\"Enter Positive number\"))\n",
        "\n",
        "if num < 0:\n",
        "   print(\"Error\")\n",
        "else:\n",
        "   sum = 0\n",
        "   while(num > 0):\n",
        "       sum += num\n",
        "       num -= 1\n",
        "   print(\"The sum is\", sum)"
      ],
      "metadata": {
        "colab": {
          "base_uri": "https://localhost:8080/"
        },
        "id": "7cE11owMOCdr",
        "outputId": "22213bf2-1843-4196-be0c-e87a35a1160d"
      },
      "execution_count": 65,
      "outputs": [
        {
          "output_type": "stream",
          "name": "stdout",
          "text": [
            "Enter Positive number12\n",
            "The sum is 78\n"
          ]
        }
      ]
    },
    {
      "cell_type": "code",
      "source": [],
      "metadata": {
        "id": "QvjN74z7zlr_"
      },
      "execution_count": null,
      "outputs": []
    }
  ]
}