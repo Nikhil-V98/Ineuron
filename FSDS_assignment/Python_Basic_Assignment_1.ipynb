{
 "cells": [
  {
   "cell_type": "raw",
   "id": "d9de8b27",
   "metadata": {},
   "source": [
    "1) In the below elements which of them are values or an expression?\n",
    "\n",
    "*  ----- Expression\n",
    "'hello'  ---- Values\n",
    "-87.8  ---- Values\n",
    "-   ---- Expression\n",
    "/    ---- Expression\n",
    "+   ---- Expression\n",
    "6    ---- Values"
   ]
  },
  {
   "cell_type": "raw",
   "id": "d8d0236c",
   "metadata": {},
   "source": [
    "2) What is the difference between string and variable?\n",
    ">> A Variable is a store of information, and a String is a type of information you would store in a Variable.\n",
    ">> string a class,it is used to represent text type data. Variable is any alphabet or group of alphabet which work as temporary storage locations."
   ]
  },
  {
   "cell_type": "raw",
   "id": "30067cc6",
   "metadata": {},
   "source": [
    "3) Describe three different data types.\n",
    ">> Integer: It contains positive or negative whole numbers (without fraction or decimal)\n",
    ">> String: string is an immutable sequence data type. It is the sequence of Unicode characters wrapped inside single, double, or triple quotes\n",
    ">> List: the list is used for storing multiple data items in a single variable."
   ]
  },
  {
   "cell_type": "raw",
   "id": "c1904deb",
   "metadata": {},
   "source": [
    "4) What is an expression made up of? What do all expressions do?\n",
    ">>  An expression is a combination of values, variables, operators, and calls to functions.\n",
    ">>  An expression is an instruction that combines values and operators and always evaluates down to a single value.\n",
    ">> a = 2 + 3     and expressions are used to evaluate the values or represent the result on the screen."
   ]
  },
  {
   "cell_type": "raw",
   "id": "5a465d6b",
   "metadata": {},
   "source": [
    "5) This assignment statements, like spam = 10. What is the difference between an expression and a statement?\n",
    ">> Expression is made up of values, containers, and mathematical operators (operands) and the statement is just like a command that a python interpreter executes like print."
   ]
  },
  {
   "cell_type": "raw",
   "id": "5d9c8416",
   "metadata": {},
   "source": [
    "6) After running the following code, what does the variable bacon contain?\n",
    "bacon = 22\n",
    "bacon + 1\n",
    ">> bacon contains 23"
   ]
  },
  {
   "cell_type": "raw",
   "id": "66b739ea",
   "metadata": {},
   "source": [
    "7) What should the values of the following two terms be?\n",
    "'spam' + 'spamspam'\n",
    "'spam' * 3\n",
    ">> It will be same"
   ]
  },
  {
   "cell_type": "raw",
   "id": "a678f3ad",
   "metadata": {},
   "source": [
    "8) Why is eggs a valid variable name while 100 is invalid?\n",
    ">> Because we can't start giving variable an integer name in beginning. We should begin with, a string-like alphabet name then integer."
   ]
  },
  {
   "cell_type": "raw",
   "id": "2d9adb6d",
   "metadata": {},
   "source": [
    "9) What three functions can be used to get the integer, floating-point number, or string version of a value?\n",
    ">> int(), float(), str() "
   ]
  },
  {
   "cell_type": "raw",
   "id": "6d1cbd1b",
   "metadata": {},
   "source": [
    "10) Why does this expression cause an error? How can you fix it?\n",
    "'I have eaten ' + 99 + ' burritos.'\n",
    ">> Because 99 is int and we are trying to concatenated int with string which is not posiible we can fix it by typecasting. \n",
    "'I have eaten ' + '99' + ' burritos.'"
   ]
  }
 ],
 "metadata": {
  "kernelspec": {
   "display_name": "Python 3",
   "language": "python",
   "name": "python3"
  },
  "language_info": {
   "codemirror_mode": {
    "name": "ipython",
    "version": 3
   },
   "file_extension": ".py",
   "mimetype": "text/x-python",
   "name": "python",
   "nbconvert_exporter": "python",
   "pygments_lexer": "ipython3",
   "version": "3.8.8"
  }
 },
 "nbformat": 4,
 "nbformat_minor": 5
}
