{
 "cells": [
  {
   "cell_type": "raw",
   "id": "8fccbc1e",
   "metadata": {},
   "source": [
    "1) What are the two values of the Boolean data type? How do you write them?\n",
    "\n",
    ">> True and False, using capital T and F, with the rest of the word in lowercase"
   ]
  },
  {
   "cell_type": "raw",
   "id": "9b6ce32b",
   "metadata": {},
   "source": [
    "2) What are the three different types of Boolean operators?\n",
    "\n",
    ">> and, or, not."
   ]
  },
  {
   "cell_type": "raw",
   "id": "d270e6d0",
   "metadata": {},
   "source": [
    "3) Make a list of each Boolean operator's truth tables (i.e. every possible combination of Boolean values for the operator and what it evaluate).\n",
    "\n",
    ">> and\n",
    "True and True = True\n",
    "True and False = False\n",
    "False and True = False\n",
    "False and False = False\n",
    "\n",
    ">> or\n",
    "True or True = True\n",
    "True or False = True\n",
    "False or True = True\n",
    "False or False = False\n",
    "\n",
    ">> not\n",
    "not True = False\n",
    "not False = True"
   ]
  },
  {
   "cell_type": "raw",
   "id": "d78c900a",
   "metadata": {},
   "source": [
    "4) What are the values of the following expressions?\n",
    "(5 > 4) and (3 == 5) : False\n",
    "not (5 > 4) : False\n",
    "(5 > 4) or (3 == 5) : True\n",
    "not ((5 > 4) or (3 == 5)) : False\n",
    "(True and True) and (True == False) : Flase\n",
    "(not False) or (not True) : True\n"
   ]
  },
  {
   "cell_type": "raw",
   "id": "748c9390",
   "metadata": {},
   "source": [
    "5) What are the six comparison operators?\n",
    "\n",
    ">> ==, !=, <, >, <=, and >="
   ]
  },
  {
   "cell_type": "raw",
   "id": "76e638d5",
   "metadata": {},
   "source": [
    "6) How do you tell the difference between the equal to and assignment operators?Describe a condition and when you would use one.\n",
    "\n",
    ">> == is the equal operator to operator that compares two values and evaluates to a Boolean, while = is the assignment operator that stores a value in a variable."
   ]
  },
  {
   "cell_type": "raw",
   "id": "df16e6a2",
   "metadata": {},
   "source": [
    "7) Identify the three blocks in this code:\n",
    "spam = 0\n",
    "if spam == 10:\n",
    "print('eggs')\n",
    "if spam > 5:\n",
    "print('bacon')\n",
    "else:\n",
    "print('ham')\n",
    "print('spam')\n",
    "print('spam')\n",
    "\n",
    ">> Everthing under all \"if\", \"else\" Statement and the lines print('bacon') and print('ham')"
   ]
  },
  {
   "cell_type": "raw",
   "id": "48bc7e92",
   "metadata": {},
   "source": [
    "8) Write code that prints Hello if 1 is stored in spam, prints Howdy if 2 is stored in spam, and prints Greetings! if anything else is stored in spam.\n",
    "\n",
    ">> "
   ]
  },
  {
   "cell_type": "code",
   "execution_count": null,
   "id": "d32578a9",
   "metadata": {},
   "outputs": [],
   "source": [
    "spam = int(input(\"Write one number \"))\n",
    "if spam == 1:\n",
    "    print(\"Hello\")\n",
    "elif spam == 2:\n",
    "    print(\"Howdy\")\n",
    "else:\n",
    "    print(\"Greetings\")"
   ]
  },
  {
   "cell_type": "raw",
   "id": "8a0f3bfb",
   "metadata": {},
   "source": [
    "9) If your programme is stuck in an endless loop, what keys you’ll press?\n",
    "\n",
    ">> ctrl-C"
   ]
  },
  {
   "cell_type": "raw",
   "id": "5c4bd4d1",
   "metadata": {},
   "source": [
    "10) How can you tell the difference between break and continue?\n",
    "\n",
    ">> The break statement will move the execution outside and just after a loop. \n",
    ">> The continue statement will move the execution to the start of the loop."
   ]
  },
  {
   "cell_type": "raw",
   "id": "afa3a7c3",
   "metadata": {},
   "source": [
    "11) In a for loop, what is the difference between range(10), range(0, 10), and range(0, 10, 1)?\n",
    "\n",
    ">> They all do the same thing."
   ]
  },
  {
   "cell_type": "raw",
   "id": "e53a7d12",
   "metadata": {},
   "source": [
    "12) Write a short program that prints the numbers 1 to 10 using a for loop. Then write an equivalent program that prints the numbers 1 to 10 using a while loop.\n",
    " \n",
    " >> For and while loop :"
   ]
  },
  {
   "cell_type": "code",
   "execution_count": null,
   "id": "8ec1ad82",
   "metadata": {},
   "outputs": [],
   "source": [
    "for i in range(1,11):\n",
    "    print(i)\n",
    "\n",
    "k = 1\n",
    "while k <= 10:\n",
    "    print(k)\n",
    "    k = k + 1"
   ]
  },
  {
   "cell_type": "raw",
   "id": "feb24a3f",
   "metadata": {},
   "source": [
    "13) If you had a function named bacon() inside a module named spam, how would you call it after importing spam?\n",
    "\n",
    ">> spam.bacon()"
   ]
  }
 ],
 "metadata": {
  "kernelspec": {
   "display_name": "Python 3",
   "language": "python",
   "name": "python3"
  },
  "language_info": {
   "codemirror_mode": {
    "name": "ipython",
    "version": 3
   },
   "file_extension": ".py",
   "mimetype": "text/x-python",
   "name": "python",
   "nbconvert_exporter": "python",
   "pygments_lexer": "ipython3",
   "version": "3.8.8"
  }
 },
 "nbformat": 4,
 "nbformat_minor": 5
}
